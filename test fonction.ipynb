{
 "cells": [
  {
   "cell_type": "markdown",
   "id": "54e824c4",
   "metadata": {},
   "source": [
    "# Exercice 1 :\n",
    "Modifier la fonction suivante afin de renvoyer le carré d'un nombre"
   ]
  },
  {
   "cell_type": "code",
   "execution_count": 2,
   "id": "2ae8b662",
   "metadata": {},
   "outputs": [],
   "source": [
    "def carre (x):\n",
    "    return x**2\n",
    "\n",
    "\n",
    "#Ne pas modifier :\n",
    "assert carre(5)==25\n",
    "assert carre(-3)==9\n"
   ]
  },
  {
   "cell_type": "code",
   "execution_count": null,
   "id": "c771329b",
   "metadata": {},
   "outputs": [],
   "source": []
  },
  {
   "cell_type": "code",
   "execution_count": null,
   "id": "ed8a0f40",
   "metadata": {},
   "outputs": [],
   "source": []
  }
 ],
 "metadata": {
  "kernelspec": {
   "display_name": "Python 3",
   "language": "python",
   "name": "python3"
  },
  "language_info": {
   "codemirror_mode": {
    "name": "ipython",
    "version": 3
   },
   "file_extension": ".py",
   "mimetype": "text/x-python",
   "name": "python",
   "nbconvert_exporter": "python",
   "pygments_lexer": "ipython3",
   "version": "3.7.6"
  }
 },
 "nbformat": 4,
 "nbformat_minor": 5
}
