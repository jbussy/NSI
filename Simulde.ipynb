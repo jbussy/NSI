{
  "nbformat": 4,
  "nbformat_minor": 0,
  "metadata": {
    "colab": {
      "name": "Simulde.ipynb",
      "version": "0.3.2",
      "provenance": [],
      "collapsed_sections": [],
      "toc_visible": true
    },
    "language_info": {
      "codemirror_mode": {
        "name": "ipython",
        "version": 3
      },
      "file_extension": ".py",
      "mimetype": "text/x-python",
      "name": "python",
      "nbconvert_exporter": "python",
      "pygments_lexer": "ipython3",
      "version": "3.7.3"
    },
    "kernelspec": {
      "display_name": "Python 3",
      "language": "python",
      "name": "python3"
    }
  },
  "cells": [
    {
      "cell_type": "markdown",
      "metadata": {
        "id": "9dLMWTHmukc0",
        "colab_type": "text"
      },
      "source": [
        "# Exercice en ligne"
      ]
    },
    {
      "cell_type": "markdown",
      "metadata": {
        "id": "wDWaARmIWxSe",
        "colab_type": "text"
      },
      "source": [
        "Exercice 1 : Tester la fonction  simlation qui simule le lancé d'un dé à 6 faces. Que fait cette fonction ?"
      ]
    },
    {
      "cell_type": "code",
      "metadata": {
        "id": "3ML5eNwUWpB8",
        "colab_type": "code",
        "colab": {}
      },
      "source": [
        "import random\n",
        "def simulation():\n",
        "    nb1=0\n",
        "    for i in range(0,1000):\n",
        "        face=random.randint(1,6)    \n",
        "        if face==1:\n",
        "            nb1=nb1+1\n",
        "    f=nb1/1000\n",
        "    return f\n",
        "simulation()"
      ],
      "execution_count": 0,
      "outputs": []
    },
    {
      "cell_type": "markdown",
      "metadata": {
        "id": "Z8YoUocRYtT-",
        "colab_type": "text"
      },
      "source": [
        "Exercice 2 : Compléter la fonction ci-dessous afin de prendre en compte le nombre n de répétition."
      ]
    },
    {
      "cell_type": "code",
      "metadata": {
        "id": "sXIcbEQ0ZJdX",
        "colab_type": "code",
        "colab": {}
      },
      "source": [
        "import random\n",
        "def simulation(n):\n",
        "    ...\n",
        "    \n",
        "    \n",
        "    \n",
        "    return f\n",
        "simulation(100_000)"
      ],
      "execution_count": 0,
      "outputs": []
    }
  ]
}