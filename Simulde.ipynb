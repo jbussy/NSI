{
  "nbformat": 4,
  "nbformat_minor": 0,
  "metadata": {
    "colab": {
      "name": "Simulde.ipynb",
      "version": "0.3.2",
      "provenance": [],
      "collapsed_sections": [],
      "toc_visible": true
    },
    "language_info": {
      "codemirror_mode": {
        "name": "ipython",
        "version": 3
      },
      "file_extension": ".py",
      "mimetype": "text/x-python",
      "name": "python",
      "nbconvert_exporter": "python",
      "pygments_lexer": "ipython3",
      "version": "3.7.3"
    },
    "kernelspec": {
      "display_name": "Python 3",
      "language": "python",
      "name": "python3"
    }
  },
  "cells": [
    {
      "cell_type": "markdown",
      "metadata": {
        "id": "9dLMWTHmukc0",
        "colab_type": "text"
      },
      "source": [
        "# Exercice en ligne"
      ]
    },
    {
      "cell_type": "code",
      "metadata": {
        "id": "3ML5eNwUWpB8",
        "colab_type": "code",
        "colab": {}
      },
      "source": [
        "import random\n",
        "def simulation():\n",
        "    nb=0\n",
        "    for i in range(0,1000):\n",
        "        face=random.randint(1,6)    \n",
        "        if face==1:\n",
        "            nb=nb+1\n",
        "    f=nb/1000\n",
        "    print(f)\n",
        "simulation()"
      ],
      "execution_count": 0,
      "outputs": []
    },
    {
      "cell_type": "markdown",
      "metadata": {
        "id": "wDWaARmIWxSe",
        "colab_type": "text"
      },
      "source": [
        "Exercice 1 : tester la fonction  simlation qui simule le lancé d'un dé à 6 faces "
      ]
    }
  ]
}